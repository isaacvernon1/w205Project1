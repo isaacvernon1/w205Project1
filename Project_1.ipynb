{
 "cells": [
  {
   "cell_type": "code",
   "execution_count": 14,
   "metadata": {},
   "outputs": [],
   "source": [
    "import pandas as pd\n",
    "import matplotlib.pyplot as plt"
   ]
  },
  {
   "cell_type": "markdown",
   "metadata": {},
   "source": [
    "In my investigation into the dataset, the first question I want to answer is what are the five most popular commuter trips? This will take me defining what a commuter trip is, then looking in the data for the answer once I pare down the data. To start, I will go through the process of defining a \"commuter trip\"."
   ]
  },
  {
   "cell_type": "markdown",
   "metadata": {},
   "source": [
    "When I am starting the process, the first step is to use some common knowledge to set intial parameters. In the population that we are looking at (Bay Area employees) a general idea for working hours is 9-5, Monday through Friday. We can start to reduce our dataset to observations that are on a weekday."
   ]
  },
  {
   "cell_type": "markdown",
   "metadata": {},
   "source": [
    "#### This is the SQL for the Weekday_Trips View created\n",
    "```\n",
    "'SELECT * \n",
    "    FROM (SELECT *,\n",
    "      CASE EXTRACT(DAYOFWEEK\n",
    "      FROM\n",
    "        start_date)\n",
    "        WHEN 1 THEN \"Sunday\"\n",
    "        WHEN 2 THEN \"Monday\"\n",
    "        WHEN 3 THEN \"Tuesday\"\n",
    "        WHEN 4 THEN \"Wednesday\"\n",
    "        WHEN 5 THEN \"Thursday\"\n",
    "        WHEN 6 THEN \"Friday\"\n",
    "        WHEN 7 THEN \"Saturday\"\n",
    "    END\n",
    "      AS Day_of_Week,\n",
    "      FROM\n",
    "    `bigquery-public-data.san_francisco.bikeshare_trips`)\n",
    "WHERE Day_of_Week <> \"Saturday\" AND DAY_of_Week <> \"Sunday\"'\n",
    "```"
   ]
  },
  {
   "cell_type": "markdown",
   "metadata": {},
   "source": [
    "Now that we have our data reduced to only weekday observations, we can look at the amount of rides that were taken during each hour of the day to get an idea of when popular commute hours might be."
   ]
  },
  {
   "cell_type": "code",
   "execution_count": 16,
   "metadata": {},
   "outputs": [
    {
     "name": "stdout",
     "output_type": "stream",
     "text": [
      "Waiting on bqjob_r6d987f21d9e79ab3_00000174d5ba25b0_1 ... (0s) Current status: DONE   \n"
     ]
    }
   ],
   "source": [
    "! bq query --use_legacy_sql=FALSE --format=csv 'SELECT\\\n",
    "  COUNT(*) AS Number_of_Trips,\\\n",
    "  Start_Hour\\\n",
    "FROM (SELECT *,\\\n",
    "EXTRACT(HOUR from start_date) as Start_Hour,\\\n",
    "CAST(ROUND(duration_sec / 60.0) AS INT64) AS duration_minutes\\\n",
    "FROM (SELECT * \\\n",
    "    FROM (SELECT *,\\\n",
    "      CASE EXTRACT(DAYOFWEEK\\\n",
    "      FROM\\\n",
    "        start_date)\\\n",
    "        WHEN 1 THEN \"Sunday\"\\\n",
    "        WHEN 2 THEN \"Monday\"\\\n",
    "        WHEN 3 THEN \"Tuesday\"\\\n",
    "        WHEN 4 THEN \"Wednesday\"\\\n",
    "        WHEN 5 THEN \"Thursday\"\\\n",
    "        WHEN 6 THEN \"Friday\"\\\n",
    "        WHEN 7 THEN \"Saturday\"\\\n",
    "    END\\\n",
    "      AS Day_of_Week,\\\n",
    "      FROM\\\n",
    "    `bigquery-public-data.san_francisco.bikeshare_trips`)\\\n",
    "WHERE Day_of_Week <> \"Saturday\" AND DAY_of_Week <> \"Sunday\"))\\\n",
    "GROUP BY\\\n",
    "  Start_Hour\\\n",
    "ORDER BY\\\n",
    "  Number_of_Trips ASC' > WeekdayHours.csv"
   ]
  },
  {
   "cell_type": "code",
   "execution_count": 17,
   "metadata": {},
   "outputs": [
    {
     "data": {
      "text/html": [
       "<div>\n",
       "<style scoped>\n",
       "    .dataframe tbody tr th:only-of-type {\n",
       "        vertical-align: middle;\n",
       "    }\n",
       "\n",
       "    .dataframe tbody tr th {\n",
       "        vertical-align: top;\n",
       "    }\n",
       "\n",
       "    .dataframe thead th {\n",
       "        text-align: right;\n",
       "    }\n",
       "</style>\n",
       "<table border=\"1\" class=\"dataframe\">\n",
       "  <thead>\n",
       "    <tr style=\"text-align: right;\">\n",
       "      <th></th>\n",
       "      <th>Number_of_Trips</th>\n",
       "      <th>Start_Hour</th>\n",
       "    </tr>\n",
       "  </thead>\n",
       "  <tbody>\n",
       "    <tr>\n",
       "      <th>0</th>\n",
       "      <td>420</td>\n",
       "      <td>2</td>\n",
       "    </tr>\n",
       "    <tr>\n",
       "      <th>1</th>\n",
       "      <td>427</td>\n",
       "      <td>3</td>\n",
       "    </tr>\n",
       "    <tr>\n",
       "      <th>2</th>\n",
       "      <td>797</td>\n",
       "      <td>1</td>\n",
       "    </tr>\n",
       "    <tr>\n",
       "      <th>3</th>\n",
       "      <td>1273</td>\n",
       "      <td>4</td>\n",
       "    </tr>\n",
       "    <tr>\n",
       "      <th>4</th>\n",
       "      <td>1696</td>\n",
       "      <td>0</td>\n",
       "    </tr>\n",
       "    <tr>\n",
       "      <th>5</th>\n",
       "      <td>4797</td>\n",
       "      <td>23</td>\n",
       "    </tr>\n",
       "    <tr>\n",
       "      <th>6</th>\n",
       "      <td>4799</td>\n",
       "      <td>5</td>\n",
       "    </tr>\n",
       "    <tr>\n",
       "      <th>7</th>\n",
       "      <td>8343</td>\n",
       "      <td>22</td>\n",
       "    </tr>\n",
       "    <tr>\n",
       "      <th>8</th>\n",
       "      <td>12828</td>\n",
       "      <td>21</td>\n",
       "    </tr>\n",
       "    <tr>\n",
       "      <th>9</th>\n",
       "      <td>19492</td>\n",
       "      <td>20</td>\n",
       "    </tr>\n",
       "    <tr>\n",
       "      <th>10</th>\n",
       "      <td>19830</td>\n",
       "      <td>6</td>\n",
       "    </tr>\n",
       "    <tr>\n",
       "      <th>11</th>\n",
       "      <td>27590</td>\n",
       "      <td>14</td>\n",
       "    </tr>\n",
       "    <tr>\n",
       "      <th>12</th>\n",
       "      <td>30712</td>\n",
       "      <td>11</td>\n",
       "    </tr>\n",
       "    <tr>\n",
       "      <th>13</th>\n",
       "      <td>33029</td>\n",
       "      <td>13</td>\n",
       "    </tr>\n",
       "    <tr>\n",
       "      <th>14</th>\n",
       "      <td>34888</td>\n",
       "      <td>10</td>\n",
       "    </tr>\n",
       "    <tr>\n",
       "      <th>15</th>\n",
       "      <td>36382</td>\n",
       "      <td>12</td>\n",
       "    </tr>\n",
       "    <tr>\n",
       "      <th>16</th>\n",
       "      <td>36584</td>\n",
       "      <td>19</td>\n",
       "    </tr>\n",
       "    <tr>\n",
       "      <th>17</th>\n",
       "      <td>37424</td>\n",
       "      <td>15</td>\n",
       "    </tr>\n",
       "    <tr>\n",
       "      <th>18</th>\n",
       "      <td>65900</td>\n",
       "      <td>7</td>\n",
       "    </tr>\n",
       "    <tr>\n",
       "      <th>19</th>\n",
       "      <td>78188</td>\n",
       "      <td>18</td>\n",
       "    </tr>\n",
       "    <tr>\n",
       "      <th>20</th>\n",
       "      <td>79000</td>\n",
       "      <td>16</td>\n",
       "    </tr>\n",
       "    <tr>\n",
       "      <th>21</th>\n",
       "      <td>90264</td>\n",
       "      <td>9</td>\n",
       "    </tr>\n",
       "    <tr>\n",
       "      <th>22</th>\n",
       "      <td>118332</td>\n",
       "      <td>17</td>\n",
       "    </tr>\n",
       "    <tr>\n",
       "      <th>23</th>\n",
       "      <td>128999</td>\n",
       "      <td>8</td>\n",
       "    </tr>\n",
       "  </tbody>\n",
       "</table>\n",
       "</div>"
      ],
      "text/plain": [
       "    Number_of_Trips  Start_Hour\n",
       "0               420           2\n",
       "1               427           3\n",
       "2               797           1\n",
       "3              1273           4\n",
       "4              1696           0\n",
       "5              4797          23\n",
       "6              4799           5\n",
       "7              8343          22\n",
       "8             12828          21\n",
       "9             19492          20\n",
       "10            19830           6\n",
       "11            27590          14\n",
       "12            30712          11\n",
       "13            33029          13\n",
       "14            34888          10\n",
       "15            36382          12\n",
       "16            36584          19\n",
       "17            37424          15\n",
       "18            65900           7\n",
       "19            78188          18\n",
       "20            79000          16\n",
       "21            90264           9\n",
       "22           118332          17\n",
       "23           128999           8"
      ]
     },
     "execution_count": 17,
     "metadata": {},
     "output_type": "execute_result"
    }
   ],
   "source": [
    "WeekdayHours = pd.read_csv('WeekdayHours.csv')\n",
    "WeekdayHours"
   ]
  },
  {
   "cell_type": "code",
   "execution_count": 22,
   "metadata": {},
   "outputs": [
    {
     "data": {
      "text/plain": [
       "Text(0.5, 1.0, 'Number of Rides for each Hour in Weekday')"
      ]
     },
     "execution_count": 22,
     "metadata": {},
     "output_type": "execute_result"
    },
    {
     "data": {
      "image/png": "[encoded data removed]",
      "text/plain": [
       "<Figure size 432x288 with 1 Axes>"
      ]
     },
     "metadata": {
      "needs_background": "light"
     },
     "output_type": "display_data"
    }
   ],
   "source": [
    "plt.bar(WeekdayHours[\"Start_Hour\"], WeekdayHours[\"Number_of_Trips\"])\n",
    "plt.xlabel('Hour of Day')\n",
    "plt.ylabel('Number of Rides Started')\n",
    "plt.title('Number of Rides for each Hour in Weekday')"
   ]
  },
  {
   "cell_type": "markdown",
   "metadata": {},
   "source": [
    "When we look at the amount of trips per hour, we can see that there are some hours that have a much greater ridership. Thinking about our business, this would appear to indicate that these hours would have more commuters in general (especially since the most popular trip start hours are centered around what we consider traditional work hours), letting us narrow down our trips further (7-9 am, 4-6 pm)."
   ]
  },
  {
   "cell_type": "markdown",
   "metadata": {},
   "source": [
    "#### This is SQL for the view WeekdayCommuteHours\n",
    "```\n",
    "SELECT\n",
    "  *\n",
    "FROM (\n",
    "  SELECT\n",
    "    *,\n",
    "    EXTRACT(HOUR\n",
    "    FROM\n",
    "      start_date) AS Start_Hour,\n",
    "    CAST(ROUND(duration_sec / 60.0) AS INT64) AS duration_minutes\n",
    "  FROM\n",
    "    bike_trip_data.Weekday_Trips)\n",
    "WHERE\n",
    "  (Start_Hour > 6\n",
    "    AND Start_Hour < 10)\n",
    "  OR ((Start_Hour > 3\n",
    "      AND Start_Hour < 7))\n",
    "```"
   ]
  },
  {
   "cell_type": "markdown",
   "metadata": {},
   "source": [
    "Next, we can realize that a commute would likely involve going from one station to another (returning to the original station would be more likely to be exercise or purely for enjoyment). With this, we can narrow down our dataset once more. Once we do that, we can think about another factor: the length of the trip. We can go ahead and look at some of the times that our trips took."
   ]
  },
  {
   "cell_type": "markdown",
   "metadata": {},
   "source": [
    "#### SQL for View WeekdayCrossStationTrips\n",
    "```\n",
    "SELECT\n",
    "  *\n",
    "FROM\n",
    "    bike_trip_data.WeekdayCommuteHours\n",
    "WHERE\n",
    "  start_station_name <> end_station_name\n",
    "```"
   ]
  },
  {
   "cell_type": "code",
   "execution_count": 32,
   "metadata": {},
   "outputs": [
    {
     "name": "stdout",
     "output_type": "stream",
     "text": [
      "Waiting on bqjob_r42ddfa1341174be8_00000174d647f8a4_1 ... (1s) Current status: DONE   \n"
     ]
    }
   ],
   "source": [
    "! bq query --use_legacy_sql=FALSE --format=csv \\\n",
    "'SELECT\\\n",
    "  COUNT(*) AS Number_of_Trips,\\\n",
    "  CASE\\\n",
    "    WHEN duration_minutes < 5 THEN \"Less than 5\"\\\n",
    "    WHEN duration_minutes >= 5\\\n",
    "  AND duration_minutes < 15 THEN \"Between 5 and 15\"\\\n",
    "    WHEN duration_minutes >=15 AND duration_minutes < 30 THEN \"Between 15 and 30\"\\\n",
    "    WHEN duration_minutes >= 30\\\n",
    "  AND duration_minutes < 45 THEN \"Between 30 and 45\"\\\n",
    "    WHEN duration_minutes >=45 AND duration_minutes < 60 THEN \"Between 45 and 60\"\\\n",
    "    WHEN duration_minutes >= 60 THEN \"More than 1 hour\"\\\n",
    "END\\\n",
    "  AS Trip_Duration\\\n",
    "FROM (\\\n",
    "  SELECT\\\n",
    "    *\\\n",
    "  FROM (\\\n",
    "    SELECT\\\n",
    "      *\\\n",
    "    FROM (\\\n",
    "      SELECT\\\n",
    "        *,\\\n",
    "        EXTRACT(HOUR\\\n",
    "        FROM\\\n",
    "          start_date) AS Start_Hour,\\\n",
    "        CAST(ROUND(duration_sec / 60.0) AS INT64) AS duration_minutes\\\n",
    "      FROM (\\\n",
    "        SELECT\\\n",
    "          *\\\n",
    "        FROM (\\\n",
    "          SELECT\\\n",
    "            *,\\\n",
    "            CASE EXTRACT(DAYOFWEEK\\\n",
    "            FROM\\\n",
    "              start_date)\\\n",
    "              WHEN 1 THEN \"Sunday\"\\\n",
    "              WHEN 2 THEN \"Monday\"\\\n",
    "              WHEN 3 THEN \"Tuesday\"\\\n",
    "              WHEN 4 THEN \"Wednesday\"\\\n",
    "              WHEN 5 THEN \"Thursday\"\\\n",
    "              WHEN 6 THEN \"Friday\"\\\n",
    "              WHEN 7 THEN \"Saturday\"\\\n",
    "          END\\\n",
    "            AS Day_of_Week,\\\n",
    "          FROM\\\n",
    "            `bigquery-public-data.san_francisco.bikeshare_trips`)\\\n",
    "        WHERE\\\n",
    "          Day_of_Week <> \"Saturday\"\\\n",
    "          AND DAY_of_Week <> \"Sunday\"))\\\n",
    "    WHERE\\\n",
    "      (Start_Hour > 6\\\n",
    "        AND Start_Hour < 10)\\\n",
    "      OR ((Start_Hour > 3\\\n",
    "          AND Start_Hour < 7)))\\\n",
    "  WHERE\\\n",
    "    start_station_name <> end_station_name)\\\n",
    "GROUP BY\\\n",
    "  Trip_Duration' > CommuteTripTime.csv"
   ]
  },
  {
   "cell_type": "code",
   "execution_count": 33,
   "metadata": {},
   "outputs": [],
   "source": [
    "triptime = pd.read_csv('CommuteTripTime.csv')"
   ]
  },
  {
   "cell_type": "code",
   "execution_count": 34,
   "metadata": {},
   "outputs": [
    {
     "data": {
      "text/html": [
       "<div>\n",
       "<style scoped>\n",
       "    .dataframe tbody tr th:only-of-type {\n",
       "        vertical-align: middle;\n",
       "    }\n",
       "\n",
       "    .dataframe tbody tr th {\n",
       "        vertical-align: top;\n",
       "    }\n",
       "\n",
       "    .dataframe thead th {\n",
       "        text-align: right;\n",
       "    }\n",
       "</style>\n",
       "<table border=\"1\" class=\"dataframe\">\n",
       "  <thead>\n",
       "    <tr style=\"text-align: right;\">\n",
       "      <th></th>\n",
       "      <th>Number_of_Trips</th>\n",
       "      <th>Trip_Duration</th>\n",
       "    </tr>\n",
       "  </thead>\n",
       "  <tbody>\n",
       "    <tr>\n",
       "      <th>0</th>\n",
       "      <td>41929</td>\n",
       "      <td>Less than 5</td>\n",
       "    </tr>\n",
       "    <tr>\n",
       "      <th>1</th>\n",
       "      <td>235235</td>\n",
       "      <td>Between 5 and 15</td>\n",
       "    </tr>\n",
       "    <tr>\n",
       "      <th>2</th>\n",
       "      <td>28574</td>\n",
       "      <td>Between 15 and 30</td>\n",
       "    </tr>\n",
       "    <tr>\n",
       "      <th>3</th>\n",
       "      <td>795</td>\n",
       "      <td>Between 30 and 45</td>\n",
       "    </tr>\n",
       "    <tr>\n",
       "      <th>4</th>\n",
       "      <td>1382</td>\n",
       "      <td>More than 1 hour</td>\n",
       "    </tr>\n",
       "    <tr>\n",
       "      <th>5</th>\n",
       "      <td>285</td>\n",
       "      <td>Between 45 and 60</td>\n",
       "    </tr>\n",
       "  </tbody>\n",
       "</table>\n",
       "</div>"
      ],
      "text/plain": [
       "   Number_of_Trips      Trip_Duration\n",
       "0            41929        Less than 5\n",
       "1           235235   Between 5 and 15\n",
       "2            28574  Between 15 and 30\n",
       "3              795  Between 30 and 45\n",
       "4             1382   More than 1 hour\n",
       "5              285  Between 45 and 60"
      ]
     },
     "execution_count": 34,
     "metadata": {},
     "output_type": "execute_result"
    }
   ],
   "source": [
    "triptime"
   ]
  },
  {
   "cell_type": "code",
   "execution_count": 43,
   "metadata": {},
   "outputs": [
    {
     "data": {
      "text/plain": [
       "Text(0.5, 1.0, 'Number of Trips for given Duration')"
      ]
     },
     "execution_count": 43,
     "metadata": {},
     "output_type": "execute_result"
    },
    {
     "data": {
      "image/png": "[encoded data removed]",
      "text/plain": [
       "<Figure size 432x288 with 1 Axes>"
      ]
     },
     "metadata": {
      "needs_background": "light"
     },
     "output_type": "display_data"
    }
   ],
   "source": [
    "plt.bar([\"0-5\", \"5-15\", \"15-30\", \"30-45\", \"45-60\", \"60+\"], triptime[\"Number_of_Trips\"])\n",
    "plt.xlabel(\"Duration of Trip (Minutes)\")\n",
    "plt.ylabel(\"Number of Trips\")\n",
    "plt.title(\"Number of Trips for given Duration\")"
   ]
  },
  {
   "cell_type": "markdown",
   "metadata": {},
   "source": [
    "When we look at our results, we can see that the majority of our trips are less than 30 minutes. Since we are looking for the most popular commute trips, we can go ahead and limit our view to trips that took less than 30 minutes (since even if the other trips are commuters, it isn't the core ridership). We then need to investigate the trips that took less than 5 minutes. If we see a lot of 1 minute trips, we should be able to disregard those since they are likely input errors or mechanical failures."
   ]
  },
  {
   "cell_type": "code",
   "execution_count": 39,
   "metadata": {},
   "outputs": [
    {
     "name": "stdout",
     "output_type": "stream",
     "text": [
      "Waiting on bqjob_r397825d5cfebb652_00000174d6578e90_1 ... (1s) Current status: DONE   \n"
     ]
    }
   ],
   "source": [
    "! bq query --use_legacy_sql=FALSE --format=csv \\\n",
    "'SELECT\\\n",
    "  COUNT(*) AS Number_of_Trips,\\\n",
    "  CASE\\\n",
    "    WHEN duration_sec >= 0\\\n",
    "  AND duration_sec < 60 THEN \"Between 0 and 1\"\\\n",
    "    WHEN duration_sec >=60 AND duration_sec < 120 THEN \"Between 1 and 2\"\\\n",
    "    WHEN duration_sec >= 120\\\n",
    "  AND duration_sec < 180 THEN \"Between 2 and 3\"\\\n",
    "    WHEN duration_sec >=180 AND duration_sec < 240 THEN \"Between 3 and 4\"\\\n",
    "    WHEN duration_sec >= 240 AND duration_sec < 300 THEN \"Between 4 and 5\"\\\n",
    "    ELSE \"5 or More Minutes\"\\\n",
    "END\\\n",
    "  AS Trip_Duration\\\n",
    "FROM (\\\n",
    "  SELECT\\\n",
    "    *\\\n",
    "  FROM (\\\n",
    "    SELECT\\\n",
    "      *\\\n",
    "    FROM (\\\n",
    "      SELECT\\\n",
    "        *,\\\n",
    "        EXTRACT(HOUR\\\n",
    "        FROM\\\n",
    "          start_date) AS Start_Hour,\\\n",
    "        CAST(ROUND(duration_sec / 60.0) AS INT64) AS duration_minutes\\\n",
    "      FROM (\\\n",
    "        SELECT\\\n",
    "          *\\\n",
    "        FROM (\\\n",
    "          SELECT\\\n",
    "            *,\\\n",
    "            CASE EXTRACT(DAYOFWEEK\\\n",
    "            FROM\\\n",
    "              start_date)\\\n",
    "              WHEN 1 THEN \"Sunday\"\\\n",
    "              WHEN 2 THEN \"Monday\"\\\n",
    "              WHEN 3 THEN \"Tuesday\"\\\n",
    "              WHEN 4 THEN \"Wednesday\"\\\n",
    "              WHEN 5 THEN \"Thursday\"\\\n",
    "              WHEN 6 THEN \"Friday\"\\\n",
    "              WHEN 7 THEN \"Saturday\"\\\n",
    "          END\\\n",
    "            AS Day_of_Week,\\\n",
    "          FROM\\\n",
    "            `bigquery-public-data.san_francisco.bikeshare_trips`)\\\n",
    "        WHERE\\\n",
    "          Day_of_Week <> \"Saturday\"\\\n",
    "          AND DAY_of_Week <> \"Sunday\"))\\\n",
    "    WHERE\\\n",
    "      (Start_Hour > 6\\\n",
    "        AND Start_Hour < 10)\\\n",
    "      OR ((Start_Hour > 3\\\n",
    "          AND Start_Hour < 7)))\\\n",
    "  WHERE\\\n",
    "    start_station_name <> end_station_name)\\\n",
    "GROUP BY\\\n",
    "  Trip_Duration' > CommuteTripTime.csv"
   ]
  },
  {
   "cell_type": "code",
   "execution_count": 40,
   "metadata": {},
   "outputs": [],
   "source": [
    "fivemintrip = pd.read_csv(\"CommuteTripTime.csv\")"
   ]
  },
  {
   "cell_type": "code",
   "execution_count": 41,
   "metadata": {},
   "outputs": [
    {
     "data": {
      "text/html": [
       "<div>\n",
       "<style scoped>\n",
       "    .dataframe tbody tr th:only-of-type {\n",
       "        vertical-align: middle;\n",
       "    }\n",
       "\n",
       "    .dataframe tbody tr th {\n",
       "        vertical-align: top;\n",
       "    }\n",
       "\n",
       "    .dataframe thead th {\n",
       "        text-align: right;\n",
       "    }\n",
       "</style>\n",
       "<table border=\"1\" class=\"dataframe\">\n",
       "  <thead>\n",
       "    <tr style=\"text-align: right;\">\n",
       "      <th></th>\n",
       "      <th>Number_of_Trips</th>\n",
       "      <th>Trip_Duration</th>\n",
       "    </tr>\n",
       "  </thead>\n",
       "  <tbody>\n",
       "    <tr>\n",
       "      <th>0</th>\n",
       "      <td>20429</td>\n",
       "      <td>Between 3 and 4</td>\n",
       "    </tr>\n",
       "    <tr>\n",
       "      <th>1</th>\n",
       "      <td>25925</td>\n",
       "      <td>Between 4 and 5</td>\n",
       "    </tr>\n",
       "    <tr>\n",
       "      <th>2</th>\n",
       "      <td>252935</td>\n",
       "      <td>5 or More Minutes</td>\n",
       "    </tr>\n",
       "    <tr>\n",
       "      <th>3</th>\n",
       "      <td>7197</td>\n",
       "      <td>Between 2 and 3</td>\n",
       "    </tr>\n",
       "    <tr>\n",
       "      <th>4</th>\n",
       "      <td>1714</td>\n",
       "      <td>Between 1 and 2</td>\n",
       "    </tr>\n",
       "  </tbody>\n",
       "</table>\n",
       "</div>"
      ],
      "text/plain": [
       "   Number_of_Trips      Trip_Duration\n",
       "0            20429    Between 3 and 4\n",
       "1            25925    Between 4 and 5\n",
       "2           252935  5 or More Minutes\n",
       "3             7197    Between 2 and 3\n",
       "4             1714    Between 1 and 2"
      ]
     },
     "execution_count": 41,
     "metadata": {},
     "output_type": "execute_result"
    }
   ],
   "source": [
    "fivemintrip"
   ]
  },
  {
   "cell_type": "markdown",
   "metadata": {},
   "source": [
    "When we look at the breakdown for the trips within 5 minutes, we can see that the majority are between 3 and 5 minutes. If we look at our station map, this is feasible since we can commute between many stations in around 3 minutes (some stations are less than a block to a couple of blocks apart in the city). For those less than 3 minutes, we can go ahead and exclude them. This lets use reduce down our trips once more."
   ]
  },
  {
   "cell_type": "markdown",
   "metadata": {},
   "source": [
    "#### SQL for View IncludeDuration\n",
    "```\n",
    "SELECT\n",
    "  *\n",
    "FROM\n",
    "  bike_trip_data.WeekdayCrossStationTrips\n",
    "WHERE\n",
    "  duration_sec >= 180\n",
    "  AND duration_minutes < 30\n",
    "```"
   ]
  },
  {
   "cell_type": "markdown",
   "metadata": {},
   "source": [
    "Finally, one more thing that we want to look at is the amount of subscriber trips versus customer trips. We would imagine that if these trips really are commuter trips, the individuals will likely be subscribers since the way membership works if you ride a bike more than once a week (there and back) it will be a better deal to join as a member than to pay for each ride individually."
   ]
  },
  {
   "cell_type": "code",
   "execution_count": 44,
   "metadata": {},
   "outputs": [
    {
     "name": "stdout",
     "output_type": "stream",
     "text": [
      "Waiting on bqjob_r4c567fe614c5f332_00000174d6c82101_1 ... (1s) Current status: DONE   \n"
     ]
    }
   ],
   "source": [
    "! bq query --use_legacy_sql=FALSE --format=csv \\\n",
    "'SELECT Count(*) as Number_of_Trips,\\\n",
    "  subscriber_type\\\n",
    "FROM (SELECT\\\n",
    "  *\\\n",
    "FROM\\\n",
    "  (SELECT\\\n",
    "    *\\\n",
    "  FROM (\\\n",
    "    SELECT\\\n",
    "      *\\\n",
    "    FROM (\\\n",
    "      SELECT\\\n",
    "        *,\\\n",
    "        EXTRACT(HOUR\\\n",
    "        FROM\\\n",
    "          start_date) AS Start_Hour,\\\n",
    "        CAST(ROUND(duration_sec / 60.0) AS INT64) AS duration_minutes\\\n",
    "      FROM (\\\n",
    "        SELECT\\\n",
    "          *\\\n",
    "        FROM (\\\n",
    "          SELECT\\\n",
    "            *,\\\n",
    "            CASE EXTRACT(DAYOFWEEK\\\n",
    "            FROM\\\n",
    "              start_date)\\\n",
    "              WHEN 1 THEN \"Sunday\"\\\n",
    "              WHEN 2 THEN \"Monday\"\\\n",
    "              WHEN 3 THEN \"Tuesday\"\\\n",
    "              WHEN 4 THEN \"Wednesday\"\\\n",
    "              WHEN 5 THEN \"Thursday\"\\\n",
    "              WHEN 6 THEN \"Friday\"\\\n",
    "              WHEN 7 THEN \"Saturday\"\\\n",
    "          END\\\n",
    "            AS Day_of_Week,\\\n",
    "          FROM\\\n",
    "            `bigquery-public-data.san_francisco.bikeshare_trips`)\\\n",
    "        WHERE\\\n",
    "          Day_of_Week <> \"Saturday\"\\\n",
    "          AND DAY_of_Week <> \"Sunday\"))\\\n",
    "    WHERE\\\n",
    "      (Start_Hour > 6\\\n",
    "        AND Start_Hour < 10)\\\n",
    "      OR ((Start_Hour > 3\\\n",
    "          AND Start_Hour < 7)))\\\n",
    "  WHERE\\\n",
    "    start_station_name <> end_station_name)\\\n",
    "WHERE\\\n",
    "  duration_sec >= 180\\\n",
    "  AND duration_minutes < 30)\\\n",
    "GROUP BY subscriber_type' > Subscriber.csv"
   ]
  },
  {
   "cell_type": "code",
   "execution_count": 45,
   "metadata": {},
   "outputs": [
    {
     "data": {
      "text/html": [
       "<div>\n",
       "<style scoped>\n",
       "    .dataframe tbody tr th:only-of-type {\n",
       "        vertical-align: middle;\n",
       "    }\n",
       "\n",
       "    .dataframe tbody tr th {\n",
       "        vertical-align: top;\n",
       "    }\n",
       "\n",
       "    .dataframe thead th {\n",
       "        text-align: right;\n",
       "    }\n",
       "</style>\n",
       "<table border=\"1\" class=\"dataframe\">\n",
       "  <thead>\n",
       "    <tr style=\"text-align: right;\">\n",
       "      <th></th>\n",
       "      <th>Number_of_Trips</th>\n",
       "      <th>subscriber_type</th>\n",
       "    </tr>\n",
       "  </thead>\n",
       "  <tbody>\n",
       "    <tr>\n",
       "      <th>0</th>\n",
       "      <td>288259</td>\n",
       "      <td>Subscriber</td>\n",
       "    </tr>\n",
       "    <tr>\n",
       "      <th>1</th>\n",
       "      <td>8568</td>\n",
       "      <td>Customer</td>\n",
       "    </tr>\n",
       "  </tbody>\n",
       "</table>\n",
       "</div>"
      ],
      "text/plain": [
       "   Number_of_Trips subscriber_type\n",
       "0           288259      Subscriber\n",
       "1             8568        Customer"
      ]
     },
     "execution_count": 45,
     "metadata": {},
     "output_type": "execute_result"
    }
   ],
   "source": [
    "subnum = pd.read_csv(\"Subscriber.csv\")\n",
    "subnum"
   ]
  },
  {
   "cell_type": "code",
   "execution_count": 47,
   "metadata": {},
   "outputs": [
    {
     "data": {
      "text/plain": [
       "Text(0.5, 1.0, 'Number of Trips for each Subscriber Type')"
      ]
     },
     "execution_count": 47,
     "metadata": {},
     "output_type": "execute_result"
    },
    {
     "data": {
      "image/png": "[encoded data removed]",
      "text/plain": [
       "<Figure size 432x288 with 1 Axes>"
      ]
     },
     "metadata": {
      "needs_background": "light"
     },
     "output_type": "display_data"
    }
   ],
   "source": [
    "plt.bar(subnum[\"subscriber_type\"], subnum[\"Number_of_Trips\"])\n",
    "plt.xlabel(\"Type of Subscriber\")\n",
    "plt.ylabel(\"Number of Trips\")\n",
    "plt.title(\"Number of Trips for each Subscriber Type\")"
   ]
  },
  {
   "cell_type": "markdown",
   "metadata": {},
   "source": [
    "We see that as we suspect, most of the trips taken during what we've determined to be commute times are from subscribers. We can then reduce our data to only subscriber trips."
   ]
  },
  {
   "cell_type": "markdown",
   "metadata": {},
   "source": [
    "#### SQL for view CommuteTrips\n",
    "```\n",
    "SELECT\n",
    "  *\n",
    "FROM\n",
    "  bike_trip_data.IncludeDuration\n",
    "WHERE\n",
    "  subscriber_type = \"Subscriber\"\n",
    "```"
   ]
  },
  {
   "cell_type": "markdown",
   "metadata": {},
   "source": [
    "Now that we have our reduced database of \"commuter trips\", we need to determine the five most popular ones. To do this, we must consider how we want to define a trip. The way that I am going to determine the popularity of a trip is to find the total number of rides that go between the stations. This means that we will combine rides that start at Station A and end at Station B with the rides that start at Station B and end at Station A (we can't just look at one direction since there might be some factors around station at the other end of a commute that causes more or less ridership). Putting this into effect, we can get the following table."
   ]
  },
  {
   "cell_type": "code",
   "execution_count": null,
   "metadata": {},
   "outputs": [],
   "source": []
  }
 ],
 "metadata": {
  "environment": {
   "name": "tf2-2-3-gpu.2-3.m55",
   "type": "gcloud",
   "uri": "gcr.io/deeplearning-platform-release/tf2-2-3-gpu.2-3:m55"
  },
  "kernelspec": {
   "display_name": "Python 3",
   "language": "python",
   "name": "python3"
  },
  "language_info": {
   "codemirror_mode": {
    "name": "ipython",
    "version": 3
   },
   "file_extension": ".py",
   "mimetype": "text/x-python",
   "name": "python",
   "nbconvert_exporter": "python",
   "pygments_lexer": "ipython3",
   "version": "3.7.8"
  }
 },
 "nbformat": 4,
 "nbformat_minor": 4
}
