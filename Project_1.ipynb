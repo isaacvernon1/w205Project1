{
 "cells": [
  {
   "cell_type": "code",
   "execution_count": 1,
   "metadata": {},
   "outputs": [],
   "source": [
    "import pandas as pd\n",
    "import matplotlib.pyplot as plt"
   ]
  },
  {
   "cell_type": "markdown",
   "metadata": {},
   "source": [
    "# Notebook Setup\n",
    "\n",
    "In this notebook, I will define the five most popular commuter trips for Lyft Bay Wheels and come up with some suggestions to explore in order to increase profitability"
   ]
  },
  {
   "cell_type": "markdown",
   "metadata": {},
   "source": [
    "### Part 1\n",
    "\n",
    "In my investigation into the dataset, the first question I want to answer is what are the five most popular commuter trips? This will take me defining what a commuter trip is, then looking in the data for the answer once I pare down the data. To start, I will go through the process of defining a \"commuter trip\"."
   ]
  },
  {
   "cell_type": "markdown",
   "metadata": {},
   "source": [
    "When I am starting the process, the first step is to use some common knowledge to set intial parameters. In the population that we are looking at (Bay Area employees) a general idea for working hours is 9-5, Monday through Friday. We can start to reduce our dataset to observations that are on a weekday."
   ]
  },
  {
   "cell_type": "markdown",
   "metadata": {},
   "source": [
    "#### This is the SQL for the Weekday_Trips View created\n",
    "```\n",
    "'SELECT * \n",
    "    FROM (SELECT *,\n",
    "      CASE EXTRACT(DAYOFWEEK\n",
    "      FROM\n",
    "        start_date)\n",
    "        WHEN 1 THEN \"Sunday\"\n",
    "        WHEN 2 THEN \"Monday\"\n",
    "        WHEN 3 THEN \"Tuesday\"\n",
    "        WHEN 4 THEN \"Wednesday\"\n",
    "        WHEN 5 THEN \"Thursday\"\n",
    "        WHEN 6 THEN \"Friday\"\n",
    "        WHEN 7 THEN \"Saturday\"\n",
    "    END\n",
    "      AS Day_of_Week,\n",
    "      FROM\n",
    "    `bigquery-public-data.san_francisco.bikeshare_trips`)\n",
    "WHERE Day_of_Week <> \"Saturday\" AND DAY_of_Week <> \"Sunday\"'\n",
    "```"
   ]
  },
  {
   "cell_type": "markdown",
   "metadata": {},
   "source": [
    "Now that we have our data reduced to only weekday observations, we can look at the amount of rides that were taken during each hour of the day to get an idea of when popular commute hours might be."
   ]
  },
  {
   "cell_type": "code",
   "execution_count": 77,
   "metadata": {},
   "outputs": [
    {
     "name": "stdout",
     "output_type": "stream",
     "text": [
      "Waiting on bqjob_r6f3b342fc52e8c7a_00000174d6e1f478_1 ... (1s) Current status: DONE   \n"
     ]
    }
   ],
   "source": [
    "! bq query --use_legacy_sql=FALSE --format=csv 'SELECT\\\n",
    "  COUNT(*) AS Number_of_Trips,\\\n",
    "  Start_Hour\\\n",
    "FROM (SELECT *,\\\n",
    "EXTRACT(HOUR from start_date) as Start_Hour,\\\n",
    "CAST(ROUND(duration_sec / 60.0) AS INT64) AS duration_minutes\\\n",
    "FROM bike_trip_data.Weekday_Trips)\\\n",
    "GROUP BY\\\n",
    "  Start_Hour\\\n",
    "ORDER BY\\\n",
    "  Number_of_Trips ASC' > WeekdayHours.csv"
   ]
  },
  {
   "cell_type": "code",
   "execution_count": 78,
   "metadata": {},
   "outputs": [
    {
     "data": {
      "text/html": [
       "<div>\n",
       "<style scoped>\n",
       "    .dataframe tbody tr th:only-of-type {\n",
       "        vertical-align: middle;\n",
       "    }\n",
       "\n",
       "    .dataframe tbody tr th {\n",
       "        vertical-align: top;\n",
       "    }\n",
       "\n",
       "    .dataframe thead th {\n",
       "        text-align: right;\n",
       "    }\n",
       "</style>\n",
       "<table border=\"1\" class=\"dataframe\">\n",
       "  <thead>\n",
       "    <tr style=\"text-align: right;\">\n",
       "      <th></th>\n",
       "      <th>Number_of_Trips</th>\n",
       "      <th>Start_Hour</th>\n",
       "    </tr>\n",
       "  </thead>\n",
       "  <tbody>\n",
       "    <tr>\n",
       "      <th>0</th>\n",
       "      <td>420</td>\n",
       "      <td>2</td>\n",
       "    </tr>\n",
       "    <tr>\n",
       "      <th>1</th>\n",
       "      <td>427</td>\n",
       "      <td>3</td>\n",
       "    </tr>\n",
       "    <tr>\n",
       "      <th>2</th>\n",
       "      <td>797</td>\n",
       "      <td>1</td>\n",
       "    </tr>\n",
       "    <tr>\n",
       "      <th>3</th>\n",
       "      <td>1273</td>\n",
       "      <td>4</td>\n",
       "    </tr>\n",
       "    <tr>\n",
       "      <th>4</th>\n",
       "      <td>1696</td>\n",
       "      <td>0</td>\n",
       "    </tr>\n",
       "    <tr>\n",
       "      <th>5</th>\n",
       "      <td>4797</td>\n",
       "      <td>23</td>\n",
       "    </tr>\n",
       "    <tr>\n",
       "      <th>6</th>\n",
       "      <td>4799</td>\n",
       "      <td>5</td>\n",
       "    </tr>\n",
       "    <tr>\n",
       "      <th>7</th>\n",
       "      <td>8343</td>\n",
       "      <td>22</td>\n",
       "    </tr>\n",
       "    <tr>\n",
       "      <th>8</th>\n",
       "      <td>12828</td>\n",
       "      <td>21</td>\n",
       "    </tr>\n",
       "    <tr>\n",
       "      <th>9</th>\n",
       "      <td>19492</td>\n",
       "      <td>20</td>\n",
       "    </tr>\n",
       "    <tr>\n",
       "      <th>10</th>\n",
       "      <td>19830</td>\n",
       "      <td>6</td>\n",
       "    </tr>\n",
       "    <tr>\n",
       "      <th>11</th>\n",
       "      <td>27590</td>\n",
       "      <td>14</td>\n",
       "    </tr>\n",
       "    <tr>\n",
       "      <th>12</th>\n",
       "      <td>30712</td>\n",
       "      <td>11</td>\n",
       "    </tr>\n",
       "    <tr>\n",
       "      <th>13</th>\n",
       "      <td>33029</td>\n",
       "      <td>13</td>\n",
       "    </tr>\n",
       "    <tr>\n",
       "      <th>14</th>\n",
       "      <td>34888</td>\n",
       "      <td>10</td>\n",
       "    </tr>\n",
       "    <tr>\n",
       "      <th>15</th>\n",
       "      <td>36382</td>\n",
       "      <td>12</td>\n",
       "    </tr>\n",
       "    <tr>\n",
       "      <th>16</th>\n",
       "      <td>36584</td>\n",
       "      <td>19</td>\n",
       "    </tr>\n",
       "    <tr>\n",
       "      <th>17</th>\n",
       "      <td>37424</td>\n",
       "      <td>15</td>\n",
       "    </tr>\n",
       "    <tr>\n",
       "      <th>18</th>\n",
       "      <td>65900</td>\n",
       "      <td>7</td>\n",
       "    </tr>\n",
       "    <tr>\n",
       "      <th>19</th>\n",
       "      <td>78188</td>\n",
       "      <td>18</td>\n",
       "    </tr>\n",
       "    <tr>\n",
       "      <th>20</th>\n",
       "      <td>79000</td>\n",
       "      <td>16</td>\n",
       "    </tr>\n",
       "    <tr>\n",
       "      <th>21</th>\n",
       "      <td>90264</td>\n",
       "      <td>9</td>\n",
       "    </tr>\n",
       "    <tr>\n",
       "      <th>22</th>\n",
       "      <td>118332</td>\n",
       "      <td>17</td>\n",
       "    </tr>\n",
       "    <tr>\n",
       "      <th>23</th>\n",
       "      <td>128999</td>\n",
       "      <td>8</td>\n",
       "    </tr>\n",
       "  </tbody>\n",
       "</table>\n",
       "</div>"
      ],
      "text/plain": [
       "    Number_of_Trips  Start_Hour\n",
       "0               420           2\n",
       "1               427           3\n",
       "2               797           1\n",
       "3              1273           4\n",
       "4              1696           0\n",
       "5              4797          23\n",
       "6              4799           5\n",
       "7              8343          22\n",
       "8             12828          21\n",
       "9             19492          20\n",
       "10            19830           6\n",
       "11            27590          14\n",
       "12            30712          11\n",
       "13            33029          13\n",
       "14            34888          10\n",
       "15            36382          12\n",
       "16            36584          19\n",
       "17            37424          15\n",
       "18            65900           7\n",
       "19            78188          18\n",
       "20            79000          16\n",
       "21            90264           9\n",
       "22           118332          17\n",
       "23           128999           8"
      ]
     },
     "execution_count": 78,
     "metadata": {},
     "output_type": "execute_result"
    }
   ],
   "source": [
    "WeekdayHours = pd.read_csv('WeekdayHours.csv')\n",
    "WeekdayHours"
   ]
  },
  {
   "cell_type": "code",
   "execution_count": 79,
   "metadata": {},
   "outputs": [
    {
     "data": {
      "text/plain": [
       "Text(0.5, 1.0, 'Number of Rides for each Hour in Weekday')"
      ]
     },
     "execution_count": 79,
     "metadata": {},
     "output_type": "execute_result"
    },
    {
     "data": {
      "image/png": "[encoded data removed]",
      "text/plain": [
       "<Figure size 432x288 with 1 Axes>"
      ]
     },
     "metadata": {
      "needs_background": "light"
     },
     "output_type": "display_data"
    }
   ],
   "source": [
    "plt.bar(WeekdayHours[\"Start_Hour\"], WeekdayHours[\"Number_of_Trips\"])\n",
    "plt.xlabel('Hour of Day')\n",
    "plt.ylabel('Number of Rides Started')\n",
    "plt.title('Number of Rides for each Hour in Weekday')"
   ]
  },
  {
   "cell_type": "markdown",
   "metadata": {},
   "source": [
    "When we look at the amount of trips per hour, we can see that there are some hours that have a much greater ridership. Thinking about our business, this would appear to indicate that these hours would have more commuters in general (especially since the most popular trip start hours are centered around what we consider traditional work hours), letting us narrow down our trips further (7-9 am, 4-6 pm)."
   ]
  },
  {
   "cell_type": "markdown",
   "metadata": {},
   "source": [
    "#### This is SQL for the view WeekdayCommuteHours\n",
    "```\n",
    "SELECT\n",
    "  *\n",
    "FROM (\n",
    "  SELECT\n",
    "    *,\n",
    "    EXTRACT(HOUR\n",
    "    FROM\n",
    "      start_date) AS Start_Hour,\n",
    "    CAST(ROUND(duration_sec / 60.0) AS INT64) AS duration_minutes\n",
    "  FROM\n",
    "    bike_trip_data.Weekday_Trips)\n",
    "WHERE\n",
    "  (Start_Hour > 6\n",
    "    AND Start_Hour < 10)\n",
    "  OR ((Start_Hour > 3\n",
    "      AND Start_Hour < 7))\n",
    "```"
   ]
  },
  {
   "cell_type": "markdown",
   "metadata": {},
   "source": [
    "Next, we can realize that a commute would likely involve going from one station to another (returning to the original station would be more likely to be exercise or purely for enjoyment). With this, we can narrow down our dataset once more. Once we do that, we can think about another factor: the length of the trip. We can go ahead and look at some of the times that our trips took."
   ]
  },
  {
   "cell_type": "markdown",
   "metadata": {},
   "source": [
    "#### SQL for View WeekdayCrossStationTrips\n",
    "```\n",
    "SELECT\n",
    "  *\n",
    "FROM\n",
    "    bike_trip_data.WeekdayCommuteHours\n",
    "WHERE\n",
    "  start_station_name <> end_station_name\n",
    "```"
   ]
  },
  {
   "cell_type": "code",
   "execution_count": 68,
   "metadata": {},
   "outputs": [
    {
     "name": "stdout",
     "output_type": "stream",
     "text": [
      "Waiting on bqjob_r4289d0e60f29a1fb_00000174d6df79fb_1 ... (1s) Current status: DONE   \n"
     ]
    }
   ],
   "source": [
    "! bq query --use_legacy_sql=FALSE --format=csv \\\n",
    "'SELECT\\\n",
    "  COUNT(*) AS Number_of_Trips,\\\n",
    "  CASE\\\n",
    "    WHEN duration_minutes < 5 THEN \"Less than 5\"\\\n",
    "    WHEN duration_minutes >= 5\\\n",
    "  AND duration_minutes < 15 THEN \"Between 5 and 15\"\\\n",
    "    WHEN duration_minutes >=15 AND duration_minutes < 30 THEN \"Between 15 and 30\"\\\n",
    "    WHEN duration_minutes >= 30\\\n",
    "  AND duration_minutes < 45 THEN \"Between 30 and 45\"\\\n",
    "    WHEN duration_minutes >=45 AND duration_minutes < 60 THEN \"Between 45 and 60\"\\\n",
    "    WHEN duration_minutes >= 60 THEN \"More than 1 hour\"\\\n",
    "END\\\n",
    "  AS Trip_Duration\\\n",
    "FROM bike_trip_data.WeekdayCrossStationTrips\\\n",
    "GROUP BY\\\n",
    "  Trip_Duration' > CommuteTripTime.csv"
   ]
  },
  {
   "cell_type": "code",
   "execution_count": 69,
   "metadata": {},
   "outputs": [],
   "source": [
    "triptime = pd.read_csv('CommuteTripTime.csv')"
   ]
  },
  {
   "cell_type": "code",
   "execution_count": 70,
   "metadata": {},
   "outputs": [
    {
     "data": {
      "text/html": [
       "<div>\n",
       "<style scoped>\n",
       "    .dataframe tbody tr th:only-of-type {\n",
       "        vertical-align: middle;\n",
       "    }\n",
       "\n",
       "    .dataframe tbody tr th {\n",
       "        vertical-align: top;\n",
       "    }\n",
       "\n",
       "    .dataframe thead th {\n",
       "        text-align: right;\n",
       "    }\n",
       "</style>\n",
       "<table border=\"1\" class=\"dataframe\">\n",
       "  <thead>\n",
       "    <tr style=\"text-align: right;\">\n",
       "      <th></th>\n",
       "      <th>Number_of_Trips</th>\n",
       "      <th>Trip_Duration</th>\n",
       "    </tr>\n",
       "  </thead>\n",
       "  <tbody>\n",
       "    <tr>\n",
       "      <th>0</th>\n",
       "      <td>41929</td>\n",
       "      <td>Less than 5</td>\n",
       "    </tr>\n",
       "    <tr>\n",
       "      <th>1</th>\n",
       "      <td>235235</td>\n",
       "      <td>Between 5 and 15</td>\n",
       "    </tr>\n",
       "    <tr>\n",
       "      <th>2</th>\n",
       "      <td>28574</td>\n",
       "      <td>Between 15 and 30</td>\n",
       "    </tr>\n",
       "    <tr>\n",
       "      <th>3</th>\n",
       "      <td>795</td>\n",
       "      <td>Between 30 and 45</td>\n",
       "    </tr>\n",
       "    <tr>\n",
       "      <th>4</th>\n",
       "      <td>1382</td>\n",
       "      <td>More than 1 hour</td>\n",
       "    </tr>\n",
       "    <tr>\n",
       "      <th>5</th>\n",
       "      <td>285</td>\n",
       "      <td>Between 45 and 60</td>\n",
       "    </tr>\n",
       "  </tbody>\n",
       "</table>\n",
       "</div>"
      ],
      "text/plain": [
       "   Number_of_Trips      Trip_Duration\n",
       "0            41929        Less than 5\n",
       "1           235235   Between 5 and 15\n",
       "2            28574  Between 15 and 30\n",
       "3              795  Between 30 and 45\n",
       "4             1382   More than 1 hour\n",
       "5              285  Between 45 and 60"
      ]
     },
     "execution_count": 70,
     "metadata": {},
     "output_type": "execute_result"
    }
   ],
   "source": [
    "triptime"
   ]
  },
  {
   "cell_type": "code",
   "execution_count": 71,
   "metadata": {},
   "outputs": [
    {
     "data": {
      "text/plain": [
       "Text(0.5, 1.0, 'Number of Trips for given Duration')"
      ]
     },
     "execution_count": 71,
     "metadata": {},
     "output_type": "execute_result"
    },
    {
     "data": {
      "image/png": "[encoded data removed]",
      "text/plain": [
       "<Figure size 432x288 with 1 Axes>"
      ]
     },
     "metadata": {
      "needs_background": "light"
     },
     "output_type": "display_data"
    }
   ],
   "source": [
    "plt.bar([\"0-5\", \"5-15\", \"15-30\", \"30-45\", \"45-60\", \"60+\"], triptime[\"Number_of_Trips\"])\n",
    "plt.xlabel(\"Duration of Trip (Minutes)\")\n",
    "plt.ylabel(\"Number of Trips\")\n",
    "plt.title(\"Number of Trips for given Duration\")"
   ]
  },
  {
   "cell_type": "markdown",
   "metadata": {},
   "source": [
    "When we look at our results, we can see that the majority of our trips are less than 30 minutes. Since we are looking for the most popular commute trips, we can go ahead and limit our view to trips that took less than 30 minutes (since even if the other trips are commuters, it isn't the core ridership). We then need to investigate the trips that took less than 5 minutes. If we see a lot of 1 minute trips, we should be able to disregard those since they are likely input errors or mechanical failures."
   ]
  },
  {
   "cell_type": "code",
   "execution_count": 72,
   "metadata": {},
   "outputs": [
    {
     "name": "stdout",
     "output_type": "stream",
     "text": [
      "Waiting on bqjob_rf2812a39e52e5b8_00000174d6e01d93_1 ... (1s) Current status: DONE   \n"
     ]
    }
   ],
   "source": [
    "! bq query --use_legacy_sql=FALSE --format=csv \\\n",
    "'SELECT\\\n",
    "  COUNT(*) AS Number_of_Trips,\\\n",
    "  CASE\\\n",
    "    WHEN duration_sec >= 0\\\n",
    "  AND duration_sec < 60 THEN \"Between 0 and 1\"\\\n",
    "    WHEN duration_sec >=60 AND duration_sec < 120 THEN \"Between 1 and 2\"\\\n",
    "    WHEN duration_sec >= 120\\\n",
    "  AND duration_sec < 180 THEN \"Between 2 and 3\"\\\n",
    "    WHEN duration_sec >=180 AND duration_sec < 240 THEN \"Between 3 and 4\"\\\n",
    "    WHEN duration_sec >= 240 AND duration_sec < 300 THEN \"Between 4 and 5\"\\\n",
    "    ELSE \"5 or More Minutes\"\\\n",
    "END\\\n",
    "  AS Trip_Duration\\\n",
    "FROM bike_trip_data.WeekdayCrossStationTrips\\\n",
    "GROUP BY\\\n",
    "  Trip_Duration' > CommuteTripTime.csv"
   ]
  },
  {
   "cell_type": "code",
   "execution_count": 73,
   "metadata": {},
   "outputs": [],
   "source": [
    "fivemintrip = pd.read_csv(\"CommuteTripTime.csv\")"
   ]
  },
  {
   "cell_type": "code",
   "execution_count": 74,
   "metadata": {},
   "outputs": [
    {
     "data": {
      "text/html": [
       "<div>\n",
       "<style scoped>\n",
       "    .dataframe tbody tr th:only-of-type {\n",
       "        vertical-align: middle;\n",
       "    }\n",
       "\n",
       "    .dataframe tbody tr th {\n",
       "        vertical-align: top;\n",
       "    }\n",
       "\n",
       "    .dataframe thead th {\n",
       "        text-align: right;\n",
       "    }\n",
       "</style>\n",
       "<table border=\"1\" class=\"dataframe\">\n",
       "  <thead>\n",
       "    <tr style=\"text-align: right;\">\n",
       "      <th></th>\n",
       "      <th>Number_of_Trips</th>\n",
       "      <th>Trip_Duration</th>\n",
       "    </tr>\n",
       "  </thead>\n",
       "  <tbody>\n",
       "    <tr>\n",
       "      <th>0</th>\n",
       "      <td>20429</td>\n",
       "      <td>Between 3 and 4</td>\n",
       "    </tr>\n",
       "    <tr>\n",
       "      <th>1</th>\n",
       "      <td>25925</td>\n",
       "      <td>Between 4 and 5</td>\n",
       "    </tr>\n",
       "    <tr>\n",
       "      <th>2</th>\n",
       "      <td>252935</td>\n",
       "      <td>5 or More Minutes</td>\n",
       "    </tr>\n",
       "    <tr>\n",
       "      <th>3</th>\n",
       "      <td>7197</td>\n",
       "      <td>Between 2 and 3</td>\n",
       "    </tr>\n",
       "    <tr>\n",
       "      <th>4</th>\n",
       "      <td>1714</td>\n",
       "      <td>Between 1 and 2</td>\n",
       "    </tr>\n",
       "  </tbody>\n",
       "</table>\n",
       "</div>"
      ],
      "text/plain": [
       "   Number_of_Trips      Trip_Duration\n",
       "0            20429    Between 3 and 4\n",
       "1            25925    Between 4 and 5\n",
       "2           252935  5 or More Minutes\n",
       "3             7197    Between 2 and 3\n",
       "4             1714    Between 1 and 2"
      ]
     },
     "execution_count": 74,
     "metadata": {},
     "output_type": "execute_result"
    }
   ],
   "source": [
    "fivemintrip"
   ]
  },
  {
   "cell_type": "markdown",
   "metadata": {},
   "source": [
    "When we look at the breakdown for the trips within 5 minutes, we can see that the majority are between 3 and 5 minutes. If we look at our station map, this is feasible since we can commute between many stations in around 3 minutes (some stations are less than a block to a couple of blocks apart in the city). For those less than 3 minutes, we can go ahead and exclude them. This lets use reduce down our trips once more."
   ]
  },
  {
   "cell_type": "markdown",
   "metadata": {},
   "source": [
    "#### SQL for View IncludeDuration\n",
    "```\n",
    "SELECT\n",
    "  *\n",
    "FROM\n",
    "  bike_trip_data.WeekdayCrossStationTrips\n",
    "WHERE\n",
    "  duration_sec >= 180\n",
    "  AND duration_minutes < 30\n",
    "```"
   ]
  },
  {
   "cell_type": "markdown",
   "metadata": {},
   "source": [
    "Finally, one more thing that we want to look at is the amount of subscriber trips versus customer trips. We would imagine that if these trips really are commuter trips, the individuals will likely be subscribers since the way membership works if you ride a bike more than once a week (there and back) it will be a better deal to join as a member than to pay for each ride individually."
   ]
  },
  {
   "cell_type": "code",
   "execution_count": 80,
   "metadata": {},
   "outputs": [
    {
     "name": "stdout",
     "output_type": "stream",
     "text": [
      "Waiting on bqjob_r1ed45c45b3acf79c_00000174d6e27f7c_1 ... (1s) Current status: DONE   \n"
     ]
    }
   ],
   "source": [
    "! bq query --use_legacy_sql=FALSE --format=csv \\\n",
    "'SELECT COUNT(*) AS Number_of_Trips, \\\n",
    "    subscriber_type \\\n",
    "FROM bike_trip_data.IncludeDuration \\\n",
    "GROUP BY subscriber_type' > Subscriber.csv"
   ]
  },
  {
   "cell_type": "code",
   "execution_count": 81,
   "metadata": {},
   "outputs": [
    {
     "data": {
      "text/html": [
       "<div>\n",
       "<style scoped>\n",
       "    .dataframe tbody tr th:only-of-type {\n",
       "        vertical-align: middle;\n",
       "    }\n",
       "\n",
       "    .dataframe tbody tr th {\n",
       "        vertical-align: top;\n",
       "    }\n",
       "\n",
       "    .dataframe thead th {\n",
       "        text-align: right;\n",
       "    }\n",
       "</style>\n",
       "<table border=\"1\" class=\"dataframe\">\n",
       "  <thead>\n",
       "    <tr style=\"text-align: right;\">\n",
       "      <th></th>\n",
       "      <th>Number_of_Trips</th>\n",
       "      <th>subscriber_type</th>\n",
       "    </tr>\n",
       "  </thead>\n",
       "  <tbody>\n",
       "    <tr>\n",
       "      <th>0</th>\n",
       "      <td>288259</td>\n",
       "      <td>Subscriber</td>\n",
       "    </tr>\n",
       "    <tr>\n",
       "      <th>1</th>\n",
       "      <td>8568</td>\n",
       "      <td>Customer</td>\n",
       "    </tr>\n",
       "  </tbody>\n",
       "</table>\n",
       "</div>"
      ],
      "text/plain": [
       "   Number_of_Trips subscriber_type\n",
       "0           288259      Subscriber\n",
       "1             8568        Customer"
      ]
     },
     "execution_count": 81,
     "metadata": {},
     "output_type": "execute_result"
    }
   ],
   "source": [
    "subnum = pd.read_csv(\"Subscriber.csv\")\n",
    "subnum"
   ]
  },
  {
   "cell_type": "code",
   "execution_count": 82,
   "metadata": {},
   "outputs": [
    {
     "data": {
      "text/plain": [
       "Text(0.5, 1.0, 'Number of Trips for each Subscriber Type')"
      ]
     },
     "execution_count": 82,
     "metadata": {},
     "output_type": "execute_result"
    },
    {
     "data": {
      "image/png": "[encoded data removed]",
      "text/plain": [
       "<Figure size 432x288 with 1 Axes>"
      ]
     },
     "metadata": {
      "needs_background": "light"
     },
     "output_type": "display_data"
    }
   ],
   "source": [
    "plt.bar(subnum[\"subscriber_type\"], subnum[\"Number_of_Trips\"])\n",
    "plt.xlabel(\"Type of Subscriber\")\n",
    "plt.ylabel(\"Number of Trips\")\n",
    "plt.title(\"Number of Trips for each Subscriber Type\")"
   ]
  },
  {
   "cell_type": "markdown",
   "metadata": {},
   "source": [
    "We see that as we suspect, most of the trips taken during what we've determined to be commute times are from subscribers. We can then reduce our data to only subscriber trips."
   ]
  },
  {
   "cell_type": "markdown",
   "metadata": {},
   "source": [
    "#### SQL for view CommuteTrips\n",
    "```\n",
    "SELECT\n",
    "  *\n",
    "FROM\n",
    "  bike_trip_data.IncludeDuration\n",
    "WHERE\n",
    "  subscriber_type = \"Subscriber\"\n",
    "```"
   ]
  },
  {
   "cell_type": "markdown",
   "metadata": {},
   "source": [
    "Now that we have our reduced database of \"commuter trips\", we need to determine the five most popular ones. To do this, we must consider how we want to define a trip. The way that I am going to determine the popularity of a trip is to find the total number of rides that go between the stations. This means that we will combine rides that start at Station A and end at Station B with the rides that start at Station B and end at Station A (we can't just look at one direction since there might be some factors around station at the other end of a commute that causes more or less ridership). To get this, we can first create a data table that gives the number of trips for a given starting and ending station."
   ]
  },
  {
   "cell_type": "code",
   "execution_count": 83,
   "metadata": {},
   "outputs": [
    {
     "name": "stdout",
     "output_type": "stream",
     "text": [
      "Waiting on bqjob_r58c7673092adfd1e_00000174d6f69d2d_1 ... (1s) Current status: DONE   \n"
     ]
    }
   ],
   "source": [
    "! bq query --use_legacy_sql=FALSE --format=csv \\\n",
    "'SELECT\\\n",
    "  start_station_name,\\\n",
    "  end_station_name,\\\n",
    "  COUNT(*) AS Number_of_Trips\\\n",
    "FROM\\\n",
    "  bike_trip_data.CommuteTrips\\\n",
    "GROUP BY\\\n",
    "  start_station_name,\\\n",
    "  end_station_name' > TripNumbers.csv"
   ]
  },
  {
   "cell_type": "code",
   "execution_count": 84,
   "metadata": {},
   "outputs": [
    {
     "data": {
      "text/html": [
       "<div>\n",
       "<style scoped>\n",
       "    .dataframe tbody tr th:only-of-type {\n",
       "        vertical-align: middle;\n",
       "    }\n",
       "\n",
       "    .dataframe tbody tr th {\n",
       "        vertical-align: top;\n",
       "    }\n",
       "\n",
       "    .dataframe thead th {\n",
       "        text-align: right;\n",
       "    }\n",
       "</style>\n",
       "<table border=\"1\" class=\"dataframe\">\n",
       "  <thead>\n",
       "    <tr style=\"text-align: right;\">\n",
       "      <th></th>\n",
       "      <th>start_station_name</th>\n",
       "      <th>end_station_name</th>\n",
       "      <th>Number_of_Trips</th>\n",
       "    </tr>\n",
       "  </thead>\n",
       "  <tbody>\n",
       "    <tr>\n",
       "      <th>0</th>\n",
       "      <td>Redwood City Caltrain Station</td>\n",
       "      <td>Mezes</td>\n",
       "      <td>6</td>\n",
       "    </tr>\n",
       "    <tr>\n",
       "      <th>1</th>\n",
       "      <td>MLK Library</td>\n",
       "      <td>Japantown</td>\n",
       "      <td>10</td>\n",
       "    </tr>\n",
       "    <tr>\n",
       "      <th>2</th>\n",
       "      <td>Ryland Park</td>\n",
       "      <td>Japantown</td>\n",
       "      <td>34</td>\n",
       "    </tr>\n",
       "    <tr>\n",
       "      <th>3</th>\n",
       "      <td>St James Park</td>\n",
       "      <td>Japantown</td>\n",
       "      <td>6</td>\n",
       "    </tr>\n",
       "    <tr>\n",
       "      <th>4</th>\n",
       "      <td>San Pedro Square</td>\n",
       "      <td>Japantown</td>\n",
       "      <td>1</td>\n",
       "    </tr>\n",
       "  </tbody>\n",
       "</table>\n",
       "</div>"
      ],
      "text/plain": [
       "              start_station_name end_station_name  Number_of_Trips\n",
       "0  Redwood City Caltrain Station            Mezes                6\n",
       "1                    MLK Library        Japantown               10\n",
       "2                    Ryland Park        Japantown               34\n",
       "3                  St James Park        Japantown                6\n",
       "4               San Pedro Square        Japantown                1"
      ]
     },
     "execution_count": 84,
     "metadata": {},
     "output_type": "execute_result"
    }
   ],
   "source": [
    "tripnum = pd.read_csv(\"TripNumbers.csv\")\n",
    "tripnum.head()"
   ]
  },
  {
   "cell_type": "markdown",
   "metadata": {},
   "source": [
    "We may think that we are now done (just take the top five values from this table and call it a day). However, we need to realize that for our defintion, we still need to add up the inverse of trips as well (A to B as well as B to A). To do this, we can create a mirror of the table and use a join to add these together."
   ]
  },
  {
   "cell_type": "markdown",
   "metadata": {},
   "source": [
    "#### SQL for view TotalTripsEachRoute\n",
    "```\n",
    "SELECT\n",
    "  One.start_station_name as Station_1, One.end_station_name as Station_2, \n",
    "  (One.Number_of_Trips + Two.Number_of_Trips) as Num_Trips\n",
    "FROM\n",
    "    bike_trip_data.StartTripNumber AS One\n",
    "INNER JOIN bike_trip_data.StartTripNumber2 AS Two ON \n",
    "        (One.start_station_name = Two.ending AND One.end_station_name = Two.start)\n",
    "```\n",
    "\n",
    "In this SQL, the two versions of the table from above are StartTripNumber and StartTripNumber2 (The mirror has the column names changed to make it easier for me to work with both)."
   ]
  },
  {
   "cell_type": "markdown",
   "metadata": {},
   "source": [
    "Now, we can look at our final table, with which we are two steps away from determining the most popular commuting trips."
   ]
  },
  {
   "cell_type": "code",
   "execution_count": 91,
   "metadata": {},
   "outputs": [
    {
     "name": "stdout",
     "output_type": "stream",
     "text": [
      "Waiting on bqjob_r5730569f04005e3c_00000174d752c18d_1 ... (2s) Current status: DONE   \n"
     ]
    }
   ],
   "source": [
    "! bq query --use_legacy_sql=FALSE --format=csv \\\n",
    "'SELECT * \\\n",
    "FROM bike_trip_data.FinalCommuteTable' > commute.csv"
   ]
  },
  {
   "cell_type": "code",
   "execution_count": 92,
   "metadata": {},
   "outputs": [
    {
     "data": {
      "text/html": [
       "<div>\n",
       "<style scoped>\n",
       "    .dataframe tbody tr th:only-of-type {\n",
       "        vertical-align: middle;\n",
       "    }\n",
       "\n",
       "    .dataframe tbody tr th {\n",
       "        vertical-align: top;\n",
       "    }\n",
       "\n",
       "    .dataframe thead th {\n",
       "        text-align: right;\n",
       "    }\n",
       "</style>\n",
       "<table border=\"1\" class=\"dataframe\">\n",
       "  <thead>\n",
       "    <tr style=\"text-align: right;\">\n",
       "      <th></th>\n",
       "      <th>Station_1</th>\n",
       "      <th>Station_2</th>\n",
       "      <th>Num_Trips</th>\n",
       "    </tr>\n",
       "  </thead>\n",
       "  <tbody>\n",
       "    <tr>\n",
       "      <th>0</th>\n",
       "      <td>Redwood City Caltrain Station</td>\n",
       "      <td>Mezes</td>\n",
       "      <td>95</td>\n",
       "    </tr>\n",
       "    <tr>\n",
       "      <th>1</th>\n",
       "      <td>MLK Library</td>\n",
       "      <td>Japantown</td>\n",
       "      <td>51</td>\n",
       "    </tr>\n",
       "    <tr>\n",
       "      <th>2</th>\n",
       "      <td>Ryland Park</td>\n",
       "      <td>Japantown</td>\n",
       "      <td>38</td>\n",
       "    </tr>\n",
       "    <tr>\n",
       "      <th>3</th>\n",
       "      <td>St James Park</td>\n",
       "      <td>Japantown</td>\n",
       "      <td>15</td>\n",
       "    </tr>\n",
       "    <tr>\n",
       "      <th>4</th>\n",
       "      <td>San Pedro Square</td>\n",
       "      <td>Japantown</td>\n",
       "      <td>25</td>\n",
       "    </tr>\n",
       "  </tbody>\n",
       "</table>\n",
       "</div>"
      ],
      "text/plain": [
       "                       Station_1  Station_2  Num_Trips\n",
       "0  Redwood City Caltrain Station      Mezes         95\n",
       "1                    MLK Library  Japantown         51\n",
       "2                    Ryland Park  Japantown         38\n",
       "3                  St James Park  Japantown         15\n",
       "4               San Pedro Square  Japantown         25"
      ]
     },
     "execution_count": 92,
     "metadata": {},
     "output_type": "execute_result"
    }
   ],
   "source": [
    "commutetable = pd.read_csv(\"commute.csv\")\n",
    "commutetable.head()"
   ]
  },
  {
   "cell_type": "markdown",
   "metadata": {},
   "source": [
    "The one remaining issue in this table is the fact that for each route that had trips going both ways we will have two values representing it. We then can take the top 10 trips (since each of the top five is duplicated) and take every second row to get the five most popular commuting trips."
   ]
  },
  {
   "cell_type": "code",
   "execution_count": 93,
   "metadata": {},
   "outputs": [
    {
     "name": "stdout",
     "output_type": "stream",
     "text": [
      "Waiting on bqjob_r5b499f7b5dcee7b8_00000174d75c57cf_1 ... (1s) Current status: DONE   \n"
     ]
    }
   ],
   "source": [
    "! bq query --use_legacy_sql=FALSE --format=csv \\\n",
    "'SELECT\\\n",
    "  *\\\n",
    "FROM\\\n",
    "  bike_trip_data.FinalCommuteTable\\\n",
    "ORDER BY Num_Trips DESC\\\n",
    "' > Duplicate.csv"
   ]
  },
  {
   "cell_type": "code",
   "execution_count": 94,
   "metadata": {},
   "outputs": [
    {
     "data": {
      "text/html": [
       "<div>\n",
       "<style scoped>\n",
       "    .dataframe tbody tr th:only-of-type {\n",
       "        vertical-align: middle;\n",
       "    }\n",
       "\n",
       "    .dataframe tbody tr th {\n",
       "        vertical-align: top;\n",
       "    }\n",
       "\n",
       "    .dataframe thead th {\n",
       "        text-align: right;\n",
       "    }\n",
       "</style>\n",
       "<table border=\"1\" class=\"dataframe\">\n",
       "  <thead>\n",
       "    <tr style=\"text-align: right;\">\n",
       "      <th></th>\n",
       "      <th>Station_1</th>\n",
       "      <th>Station_2</th>\n",
       "      <th>Num_Trips</th>\n",
       "    </tr>\n",
       "  </thead>\n",
       "  <tbody>\n",
       "    <tr>\n",
       "      <th>0</th>\n",
       "      <td>Harry Bridges Plaza (Ferry Building)</td>\n",
       "      <td>2nd at Townsend</td>\n",
       "      <td>5708</td>\n",
       "    </tr>\n",
       "    <tr>\n",
       "      <th>1</th>\n",
       "      <td>2nd at Townsend</td>\n",
       "      <td>Harry Bridges Plaza (Ferry Building)</td>\n",
       "      <td>5708</td>\n",
       "    </tr>\n",
       "    <tr>\n",
       "      <th>2</th>\n",
       "      <td>Temporary Transbay Terminal (Howard at Beale)</td>\n",
       "      <td>San Francisco Caltrain (Townsend at 4th)</td>\n",
       "      <td>5071</td>\n",
       "    </tr>\n",
       "    <tr>\n",
       "      <th>3</th>\n",
       "      <td>San Francisco Caltrain (Townsend at 4th)</td>\n",
       "      <td>Temporary Transbay Terminal (Howard at Beale)</td>\n",
       "      <td>5071</td>\n",
       "    </tr>\n",
       "    <tr>\n",
       "      <th>4</th>\n",
       "      <td>San Francisco Caltrain (Townsend at 4th)</td>\n",
       "      <td>Harry Bridges Plaza (Ferry Building)</td>\n",
       "      <td>4934</td>\n",
       "    </tr>\n",
       "  </tbody>\n",
       "</table>\n",
       "</div>"
      ],
      "text/plain": [
       "                                       Station_1  \\\n",
       "0           Harry Bridges Plaza (Ferry Building)   \n",
       "1                                2nd at Townsend   \n",
       "2  Temporary Transbay Terminal (Howard at Beale)   \n",
       "3       San Francisco Caltrain (Townsend at 4th)   \n",
       "4       San Francisco Caltrain (Townsend at 4th)   \n",
       "\n",
       "                                       Station_2  Num_Trips  \n",
       "0                                2nd at Townsend       5708  \n",
       "1           Harry Bridges Plaza (Ferry Building)       5708  \n",
       "2       San Francisco Caltrain (Townsend at 4th)       5071  \n",
       "3  Temporary Transbay Terminal (Howard at Beale)       5071  \n",
       "4           Harry Bridges Plaza (Ferry Building)       4934  "
      ]
     },
     "execution_count": 94,
     "metadata": {},
     "output_type": "execute_result"
    }
   ],
   "source": [
    "duptable = pd.read_csv(\"Duplicate.csv\")\n",
    "duptable.head()"
   ]
  },
  {
   "cell_type": "code",
   "execution_count": 98,
   "metadata": {},
   "outputs": [
    {
     "data": {
      "text/html": [
       "<div>\n",
       "<style scoped>\n",
       "    .dataframe tbody tr th:only-of-type {\n",
       "        vertical-align: middle;\n",
       "    }\n",
       "\n",
       "    .dataframe tbody tr th {\n",
       "        vertical-align: top;\n",
       "    }\n",
       "\n",
       "    .dataframe thead th {\n",
       "        text-align: right;\n",
       "    }\n",
       "</style>\n",
       "<table border=\"1\" class=\"dataframe\">\n",
       "  <thead>\n",
       "    <tr style=\"text-align: right;\">\n",
       "      <th></th>\n",
       "      <th>Station_1</th>\n",
       "      <th>Station_2</th>\n",
       "      <th>Num_Trips</th>\n",
       "    </tr>\n",
       "  </thead>\n",
       "  <tbody>\n",
       "    <tr>\n",
       "      <th>0</th>\n",
       "      <td>Harry Bridges Plaza (Ferry Building)</td>\n",
       "      <td>2nd at Townsend</td>\n",
       "      <td>5708</td>\n",
       "    </tr>\n",
       "    <tr>\n",
       "      <th>1</th>\n",
       "      <td>Temporary Transbay Terminal (Howard at Beale)</td>\n",
       "      <td>San Francisco Caltrain (Townsend at 4th)</td>\n",
       "      <td>5071</td>\n",
       "    </tr>\n",
       "    <tr>\n",
       "      <th>2</th>\n",
       "      <td>San Francisco Caltrain (Townsend at 4th)</td>\n",
       "      <td>Harry Bridges Plaza (Ferry Building)</td>\n",
       "      <td>4934</td>\n",
       "    </tr>\n",
       "    <tr>\n",
       "      <th>3</th>\n",
       "      <td>San Francisco Caltrain 2 (330 Townsend)</td>\n",
       "      <td>Townsend at 7th</td>\n",
       "      <td>4816</td>\n",
       "    </tr>\n",
       "    <tr>\n",
       "      <th>4</th>\n",
       "      <td>Steuart at Market</td>\n",
       "      <td>2nd at Townsend</td>\n",
       "      <td>4749</td>\n",
       "    </tr>\n",
       "  </tbody>\n",
       "</table>\n",
       "</div>"
      ],
      "text/plain": [
       "                                       Station_1  \\\n",
       "0           Harry Bridges Plaza (Ferry Building)   \n",
       "1  Temporary Transbay Terminal (Howard at Beale)   \n",
       "2       San Francisco Caltrain (Townsend at 4th)   \n",
       "3        San Francisco Caltrain 2 (330 Townsend)   \n",
       "4                              Steuart at Market   \n",
       "\n",
       "                                  Station_2  Num_Trips  \n",
       "0                           2nd at Townsend       5708  \n",
       "1  San Francisco Caltrain (Townsend at 4th)       5071  \n",
       "2      Harry Bridges Plaza (Ferry Building)       4934  \n",
       "3                           Townsend at 7th       4816  \n",
       "4                           2nd at Townsend       4749  "
      ]
     },
     "execution_count": 98,
     "metadata": {},
     "output_type": "execute_result"
    }
   ],
   "source": [
    "duptable.iloc[::2].reset_index(drop=True).head(5)"
   ]
  },
  {
   "cell_type": "markdown",
   "metadata": {},
   "source": [
    "At the end of our procedure, we find that the five most popular commuter trips are between\n",
    "```\n",
    "1. Harry Bridges Plaza (The Ferry Building) and 2nd at Townsend with 5708 trips\n",
    "\n",
    "2. Temporary Transbay Terminal (Howard at Beale) and San Francisco Caltrain (Townsend at 4th) with 5071 trips\n",
    "    \n",
    "3. San Francisco Caltrain(Townsend at 4th) and Harry Bridges Plaza (The Ferry Building) with 4934 trips\n",
    "\n",
    "4. San Francisco Caltrain 2 (330 Townsend) and Townsend at 7th with 4816 trips\n",
    "\n",
    "5. Steuart at Market and 2nd at Townsend with 4749 trips\n",
    "```"
   ]
  },
  {
   "cell_type": "markdown",
   "metadata": {},
   "source": [
    "### Part 2\n",
    "\n",
    "Now that we have figured out the 5 most popular commuter trips, we can then turn our attention to possible reccomendations to improve revenue. First we can look to see if we can find any differences between subscribers (our presumably regular customers) and our customers (one-off riders). "
   ]
  },
  {
   "cell_type": "code",
   "execution_count": 2,
   "metadata": {},
   "outputs": [
    {
     "name": "stdout",
     "output_type": "stream",
     "text": [
      "Waiting on bqjob_r5ac805f4ab1c877_00000174dd61332c_1 ... (6s) Current status: DONE   \n"
     ]
    }
   ],
   "source": [
    "! bq query --use_legacy_sql=FALSE --max_rows=1000000 --format=csv \\\n",
    "'SELECT duration_sec, subscriber_type\\\n",
    "FROM `bigquery-public-data.san_francisco.bikeshare_trips`' > sublength.csv"
   ]
  },
  {
   "cell_type": "code",
   "execution_count": 8,
   "metadata": {},
   "outputs": [
    {
     "data": {
      "text/html": [
       "<div>\n",
       "<style scoped>\n",
       "    .dataframe tbody tr th:only-of-type {\n",
       "        vertical-align: middle;\n",
       "    }\n",
       "\n",
       "    .dataframe tbody tr th {\n",
       "        vertical-align: top;\n",
       "    }\n",
       "\n",
       "    .dataframe thead th {\n",
       "        text-align: right;\n",
       "    }\n",
       "</style>\n",
       "<table border=\"1\" class=\"dataframe\">\n",
       "  <thead>\n",
       "    <tr style=\"text-align: right;\">\n",
       "      <th></th>\n",
       "      <th>duration_sec</th>\n",
       "      <th>subscriber_type</th>\n",
       "    </tr>\n",
       "  </thead>\n",
       "  <tbody>\n",
       "    <tr>\n",
       "      <th>0</th>\n",
       "      <td>2618</td>\n",
       "      <td>Customer</td>\n",
       "    </tr>\n",
       "    <tr>\n",
       "      <th>1</th>\n",
       "      <td>5957</td>\n",
       "      <td>Customer</td>\n",
       "    </tr>\n",
       "    <tr>\n",
       "      <th>2</th>\n",
       "      <td>5913</td>\n",
       "      <td>Customer</td>\n",
       "    </tr>\n",
       "    <tr>\n",
       "      <th>3</th>\n",
       "      <td>6079</td>\n",
       "      <td>Customer</td>\n",
       "    </tr>\n",
       "    <tr>\n",
       "      <th>4</th>\n",
       "      <td>5780</td>\n",
       "      <td>Customer</td>\n",
       "    </tr>\n",
       "  </tbody>\n",
       "</table>\n",
       "</div>"
      ],
      "text/plain": [
       "   duration_sec subscriber_type\n",
       "0          2618        Customer\n",
       "1          5957        Customer\n",
       "2          5913        Customer\n",
       "3          6079        Customer\n",
       "4          5780        Customer"
      ]
     },
     "execution_count": 8,
     "metadata": {},
     "output_type": "execute_result"
    }
   ],
   "source": [
    "dat = pd.read_csv(\"sublength.csv\")\n",
    "dat.head()"
   ]
  },
  {
   "cell_type": "code",
   "execution_count": 37,
   "metadata": {},
   "outputs": [
    {
     "name": "stdout",
     "output_type": "stream",
     "text": [
      "There are 846839 Subscriber trips and 136809 Customer Trips in our data\n"
     ]
    }
   ],
   "source": [
    "subs = dat[dat[\"subscriber_type\"] == \"Subscriber\"]\n",
    "custs = dat[dat[\"subscriber_type\"] == \"Customer\"]\n",
    "vals = [subs[\"duration_sec\"], custs[\"duration_sec\"]]\n",
    "print(\"There are \" + str(len(subs)) + \" Subscriber trips and \" + str(len(custs)) + \" Customer Trips in our data\")"
   ]
  },
  {
   "cell_type": "code",
   "execution_count": 33,
   "metadata": {},
   "outputs": [
    {
     "data": {
      "text/plain": [
       "Text(0.5, 1.0, 'Density plot for Ride Duration give Subscriber Type')"
      ]
     },
     "execution_count": 33,
     "metadata": {},
     "output_type": "execute_result"
    },
    {
     "data": {
      "image/png": "[encoded data removed]",
      "text/plain": [
       "<Figure size 432x288 with 1 Axes>"
      ]
     },
     "metadata": {
      "needs_background": "light"
     },
     "output_type": "display_data"
    }
   ],
   "source": [
    "plt.hist(vals, bins =100, range = (0,5000), density=True, label=[\"Subscriber\", \"Customer\"])\n",
    "plt.legend()\n",
    "plt.xlabel(\"Duration of Trip (Seconds)\")\n",
    "plt.ylabel(\"Density\")\n",
    "plt.title(\"Density plot for Ride Duration give Subscriber Type\")"
   ]
  },
  {
   "cell_type": "markdown",
   "metadata": {},
   "source": [
    "MORE ANALYSIS"
   ]
  },
  {
   "cell_type": "markdown",
   "metadata": {},
   "source": [
    "A different avenue of exploration would be to look at the traffic (in terms of total number of trips) at each station in our dataset (accounting for installation times)."
   ]
  },
  {
   "cell_type": "code",
   "execution_count": 45,
   "metadata": {},
   "outputs": [
    {
     "name": "stdout",
     "output_type": "stream",
     "text": [
      "Waiting on bqjob_r771a9a61d0cae234_00000174dd86df88_1 ... (0s) Current status: DONE   \n"
     ]
    }
   ],
   "source": [
    "! bq query --use_legacy_sql=FALSE --format=csv \\\n",
    "'SELECT\\\n",
    "  table1.Trip_Total,\\\n",
    "  table1.Station,\\\n",
    "  table2.landmark,\\\n",
    "  table2.installation_date\\\n",
    "FROM (\\\n",
    "  SELECT\\\n",
    "    table1.Num_Trips + table2.Number_of_Trips AS Trip_Total,\\\n",
    "    table1.Station1 AS Station\\\n",
    "  FROM (\\\n",
    "    SELECT\\\n",
    "      COUNT(*) AS Num_Trips,\\\n",
    "      start_station_name AS Station1\\\n",
    "    FROM\\\n",
    "      `bigquery-public-data.san_francisco.bikeshare_trips`\\\n",
    "    GROUP BY\\\n",
    "      start_station_name\\\n",
    "    ORDER BY\\\n",
    "      Num_Trips ASC )AS table1\\\n",
    "  LEFT JOIN (\\\n",
    "    SELECT\\\n",
    "      COUNT(*) AS Number_of_Trips,\\\n",
    "      end_station_name AS Station2\\\n",
    "    FROM\\\n",
    "      `bigquery-public-data.san_francisco.bikeshare_trips`\\\n",
    "    GROUP BY\\\n",
    "      end_station_name\\\n",
    "    ORDER BY\\\n",
    "      Number_of_Trips ASC) AS table2\\\n",
    "  ON\\\n",
    "    table1.Station1 = table2.Station2\\\n",
    "  ORDER BY\\\n",
    "    Trip_Total) AS table1\\\n",
    "INNER JOIN (\\\n",
    "  SELECT\\\n",
    "    *\\\n",
    "  FROM\\\n",
    "    `bigquery-public-data.san_francisco.bikeshare_stations`) AS table2\\\n",
    "ON\\\n",
    "  table1.Station = table2.name\\\n",
    "ORDER BY\\\n",
    "  installation_date ASC, Trip_Total,\\\n",
    "  installation_date' > StationTrips.csv"
   ]
  },
  {
   "cell_type": "code",
   "execution_count": 46,
   "metadata": {},
   "outputs": [
    {
     "data": {
      "text/html": [
       "<div>\n",
       "<style scoped>\n",
       "    .dataframe tbody tr th:only-of-type {\n",
       "        vertical-align: middle;\n",
       "    }\n",
       "\n",
       "    .dataframe tbody tr th {\n",
       "        vertical-align: top;\n",
       "    }\n",
       "\n",
       "    .dataframe thead th {\n",
       "        text-align: right;\n",
       "    }\n",
       "</style>\n",
       "<table border=\"1\" class=\"dataframe\">\n",
       "  <thead>\n",
       "    <tr style=\"text-align: right;\">\n",
       "      <th></th>\n",
       "      <th>Trip_Total</th>\n",
       "      <th>Station</th>\n",
       "      <th>landmark</th>\n",
       "      <th>installation_date</th>\n",
       "    </tr>\n",
       "  </thead>\n",
       "  <tbody>\n",
       "    <tr>\n",
       "      <th>0</th>\n",
       "      <td>3951</td>\n",
       "      <td>Arena Green / SAP Center</td>\n",
       "      <td>San Jose</td>\n",
       "      <td>2013-08-05</td>\n",
       "    </tr>\n",
       "    <tr>\n",
       "      <th>1</th>\n",
       "      <td>3975</td>\n",
       "      <td>Adobe on Almaden</td>\n",
       "      <td>San Jose</td>\n",
       "      <td>2013-08-05</td>\n",
       "    </tr>\n",
       "    <tr>\n",
       "      <th>2</th>\n",
       "      <td>4539</td>\n",
       "      <td>San Salvador at 1st</td>\n",
       "      <td>San Jose</td>\n",
       "      <td>2013-08-05</td>\n",
       "    </tr>\n",
       "    <tr>\n",
       "      <th>3</th>\n",
       "      <td>4570</td>\n",
       "      <td>San Jose Civic Center</td>\n",
       "      <td>San Jose</td>\n",
       "      <td>2013-08-05</td>\n",
       "    </tr>\n",
       "    <tr>\n",
       "      <th>4</th>\n",
       "      <td>5961</td>\n",
       "      <td>Japantown</td>\n",
       "      <td>San Jose</td>\n",
       "      <td>2013-08-05</td>\n",
       "    </tr>\n",
       "  </tbody>\n",
       "</table>\n",
       "</div>"
      ],
      "text/plain": [
       "   Trip_Total                   Station  landmark installation_date\n",
       "0        3951  Arena Green / SAP Center  San Jose        2013-08-05\n",
       "1        3975          Adobe on Almaden  San Jose        2013-08-05\n",
       "2        4539       San Salvador at 1st  San Jose        2013-08-05\n",
       "3        4570     San Jose Civic Center  San Jose        2013-08-05\n",
       "4        5961                 Japantown  San Jose        2013-08-05"
      ]
     },
     "execution_count": 46,
     "metadata": {},
     "output_type": "execute_result"
    }
   ],
   "source": [
    "stattrip = pd.read_csv(\"StationTrips.csv\")\n",
    "stattrip.head()"
   ]
  },
  {
   "cell_type": "code",
   "execution_count": 50,
   "metadata": {},
   "outputs": [
    {
     "data": {
      "text/plain": [
       "Text(0.5, 0, 'Creation of Station')"
      ]
     },
     "execution_count": 50,
     "metadata": {},
     "output_type": "execute_result"
    },
    {
     "data": {
      "image/png": "[encoded data removed]",
      "text/plain": [
       "<Figure size 432x288 with 1 Axes>"
      ]
     },
     "metadata": {
      "needs_background": "light"
     },
     "output_type": "display_data"
    }
   ],
   "source": [
    "plt.scatter(stattrip[\"installation_date\"], stattrip[\"Trip_Total\"])\n",
    "plt.xticks(rotation=90)\n",
    "plt.title(\"Number of Rides at station versus time of Installation\")\n",
    "plt.ylabel(\"Number of Total Rides\")\n",
    "plt.xlabel(\"Creation of Station\")"
   ]
  },
  {
   "cell_type": "markdown",
   "metadata": {},
   "source": [
    "When we look at the previous plot, we can see that there are clearly some stations that were around for our entire lifetime of sampling yet had very few rides as compared to other stations. We can take a closer look at some of those stations to see if there are any avenues for improvement/adjustment."
   ]
  },
  {
   "cell_type": "markdown",
   "metadata": {},
   "source": [
    "MORE ANALYSIS"
   ]
  },
  {
   "cell_type": "markdown",
   "metadata": {},
   "source": [
    "We can also look at a breakdown of trips in regions, not just stations. We can see that there are five different regions in the dataset (San Jose, Palo Alto, Mountain View, Redwood City, San Francisco) and we can look at the total number of trips versus the amount of stations."
   ]
  },
  {
   "cell_type": "code",
   "execution_count": 51,
   "metadata": {},
   "outputs": [
    {
     "name": "stdout",
     "output_type": "stream",
     "text": [
      "Waiting on bqjob_r5fd48750e53ef5a6_00000174dd9700b8_1 ... (1s) Current status: DONE   \n"
     ]
    }
   ],
   "source": [
    "! bq query --use_legacy_sql=FALSE --format=csv \\\n",
    "'SELECT\\\n",
    "  COUNT(*) AS Number_of_Stations,\\\n",
    "  SUM(table1.Trip_Total) AS Total_Trips,\\\n",
    "  table2.landmark,\\\n",
    "  ROUND(SUM(table1.Trip_Total) / COUNT(*)) AS Average_Trips_Per_Station\\\n",
    "FROM (\\\n",
    "  SELECT\\\n",
    "    table1.Num_Trips + table2.Number_of_Trips AS Trip_Total,\\\n",
    "    table1.Station1 AS Station\\\n",
    "  FROM (\\\n",
    "    SELECT\\\n",
    "      COUNT(*) AS Num_Trips,\\\n",
    "      start_station_name AS Station1\\\n",
    "    FROM\\\n",
    "      `bigquery-public-data.san_francisco.bikeshare_trips`\\\n",
    "    GROUP BY\\\n",
    "      start_station_name\\\n",
    "    ORDER BY\\\n",
    "      Num_Trips ASC )AS table1\\\n",
    "  LEFT JOIN (\\\n",
    "    SELECT\\\n",
    "      COUNT(*) AS Number_of_Trips,\\\n",
    "      end_station_name AS Station2\\\n",
    "    FROM\\\n",
    "      `bigquery-public-data.san_francisco.bikeshare_trips`\\\n",
    "    GROUP BY\\\n",
    "      end_station_name\\\n",
    "    ORDER BY\\\n",
    "      Number_of_Trips ASC) AS table2\\\n",
    "  ON\\\n",
    "    table1.Station1 = table2.Station2\\\n",
    "  ORDER BY\\\n",
    "    Trip_Total) AS table1\\\n",
    "INNER JOIN (\\\n",
    "  SELECT\\\n",
    "    *\\\n",
    "  FROM\\\n",
    "    `bigquery-public-data.san_francisco.bikeshare_stations`) AS table2\\\n",
    "ON\\\n",
    "  table1.Station = table2.name\\\n",
    "GROUP BY\\\n",
    "  landmark\\\n",
    "ORDER BY\\\n",
    "  Average_Trips_Per_Station' > RegionTrips.csv"
   ]
  },
  {
   "cell_type": "code",
   "execution_count": 52,
   "metadata": {},
   "outputs": [
    {
     "data": {
      "text/html": [
       "<div>\n",
       "<style scoped>\n",
       "    .dataframe tbody tr th:only-of-type {\n",
       "        vertical-align: middle;\n",
       "    }\n",
       "\n",
       "    .dataframe tbody tr th {\n",
       "        vertical-align: top;\n",
       "    }\n",
       "\n",
       "    .dataframe thead th {\n",
       "        text-align: right;\n",
       "    }\n",
       "</style>\n",
       "<table border=\"1\" class=\"dataframe\">\n",
       "  <thead>\n",
       "    <tr style=\"text-align: right;\">\n",
       "      <th></th>\n",
       "      <th>Number_of_Stations</th>\n",
       "      <th>Total_Trips</th>\n",
       "      <th>landmark</th>\n",
       "      <th>Average_Trips_Per_Station</th>\n",
       "    </tr>\n",
       "  </thead>\n",
       "  <tbody>\n",
       "    <tr>\n",
       "      <th>0</th>\n",
       "      <td>7</td>\n",
       "      <td>9248</td>\n",
       "      <td>Redwood City</td>\n",
       "      <td>1321.0</td>\n",
       "    </tr>\n",
       "    <tr>\n",
       "      <th>1</th>\n",
       "      <td>5</td>\n",
       "      <td>19812</td>\n",
       "      <td>Palo Alto</td>\n",
       "      <td>3962.0</td>\n",
       "    </tr>\n",
       "    <tr>\n",
       "      <th>2</th>\n",
       "      <td>7</td>\n",
       "      <td>43908</td>\n",
       "      <td>Mountain View</td>\n",
       "      <td>6273.0</td>\n",
       "    </tr>\n",
       "    <tr>\n",
       "      <th>3</th>\n",
       "      <td>16</td>\n",
       "      <td>105452</td>\n",
       "      <td>San Jose</td>\n",
       "      <td>6591.0</td>\n",
       "    </tr>\n",
       "    <tr>\n",
       "      <th>4</th>\n",
       "      <td>37</td>\n",
       "      <td>1744156</td>\n",
       "      <td>San Francisco</td>\n",
       "      <td>47139.0</td>\n",
       "    </tr>\n",
       "  </tbody>\n",
       "</table>\n",
       "</div>"
      ],
      "text/plain": [
       "   Number_of_Stations  Total_Trips       landmark  Average_Trips_Per_Station\n",
       "0                   7         9248   Redwood City                     1321.0\n",
       "1                   5        19812      Palo Alto                     3962.0\n",
       "2                   7        43908  Mountain View                     6273.0\n",
       "3                  16       105452       San Jose                     6591.0\n",
       "4                  37      1744156  San Francisco                    47139.0"
      ]
     },
     "execution_count": 52,
     "metadata": {},
     "output_type": "execute_result"
    }
   ],
   "source": [
    "rtrips = pd.read_csv(\"RegionTrips.csv\")\n",
    "rtrips"
   ]
  },
  {
   "cell_type": "markdown",
   "metadata": {},
   "source": [
    "MORE ANALYSIS"
   ]
  },
  {
   "cell_type": "code",
   "execution_count": null,
   "metadata": {},
   "outputs": [],
   "source": []
  }
 ],
 "metadata": {
  "environment": {
   "name": "tf2-2-3-gpu.2-3.m55",
   "type": "gcloud",
   "uri": "gcr.io/deeplearning-platform-release/tf2-2-3-gpu.2-3:m55"
  },
  "kernelspec": {
   "display_name": "Python 3",
   "language": "python",
   "name": "python3"
  },
  "language_info": {
   "codemirror_mode": {
    "name": "ipython",
    "version": 3
   },
   "file_extension": ".py",
   "mimetype": "text/x-python",
   "name": "python",
   "nbconvert_exporter": "python",
   "pygments_lexer": "ipython3",
   "version": "3.7.8"
  }
 },
 "nbformat": 4,
 "nbformat_minor": 4
}
